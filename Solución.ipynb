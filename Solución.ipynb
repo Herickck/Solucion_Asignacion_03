{
 "cells": [
  {
   "cell_type": "markdown",
   "metadata": {},
   "source": [
    "Una tienda de ventas en línea tiene un millon de usuarios, cada uno tiene una selección en su lista de\n",
    "deseos, el precio de venta de cada uno de las selecciones está almacenada en el archivo “costos.txt”"
   ]
  },
  {
   "cell_type": "markdown",
   "metadata": {},
   "source": [
    "Como estrategia de fidelización de clientes, para la festividad de la natividad del 2020 la compañía va a\n",
    "regalar a cada cliente la selección si ésta tiene un costo menor a $25. Se solicita que codifique una\n",
    "solución para determinar el monto que la compañía va a internir en esta campaña. Deberá codificar al\n",
    "menos 2 soluciones para que el cliente pueda seleccionar la idónea basada en un indicador de\n",
    "desempeño en términos de tiempo."
   ]
  },
  {
   "cell_type": "code",
   "execution_count": 1,
   "metadata": {},
   "outputs": [],
   "source": [
    "import time\n",
    "import pandas as pd\n",
    "import numpy as np"
   ]
  },
  {
   "cell_type": "markdown",
   "metadata": {},
   "source": [
    "## Primera propuesta utilizando numpy "
   ]
  },
  {
   "cell_type": "code",
   "execution_count": 25,
   "metadata": {},
   "outputs": [],
   "source": [
    "venta = np.genfromtxt(\"costos.txt\", delimiter=\",\")"
   ]
  },
  {
   "cell_type": "code",
   "execution_count": 26,
   "metadata": {
    "scrolled": true
   },
   "outputs": [
    {
     "name": "stdout",
     "output_type": "stream",
     "text": [
      "Personas que aplican: 2528498\n",
      "Inversion: $ 32869928.0\n",
      "Duracion: 0.43672895431518555 segundos\n"
     ]
    }
   ],
   "source": [
    "inicio = time.time()\n",
    "libros_vendidos = venta[venta <= 25]\n",
    "inversion = np.sum(lista)\n",
    "\n",
    "print('Personas que aplican:',len(libros_vendidos))\n",
    "print('Inversion: $',inversion)\n",
    "print('Duracion: {} segundos'.format(time.time() - inicio))"
   ]
  },
  {
   "cell_type": "markdown",
   "metadata": {},
   "source": [
    "## Segunda Solucion con python"
   ]
  },
  {
   "cell_type": "code",
   "execution_count": 3,
   "metadata": {},
   "outputs": [],
   "source": [
    "with open('costos.txt') as c:\n",
    "    costos = c.read().split('\\n')"
   ]
  },
  {
   "cell_type": "code",
   "execution_count": 23,
   "metadata": {},
   "outputs": [
    {
     "name": "stdout",
     "output_type": "stream",
     "text": [
      "Personas que aplican: 2528498\n",
      "Inversion: $ 32869928\n",
      "Duracion: 17.0836923122406 segundos\n"
     ]
    }
   ],
   "source": [
    "inicio = time.time()\n",
    "libros_vendidos = []\n",
    "inversion = 0\n",
    "for venta in costos:\n",
    "    if int(venta) <= 25:\n",
    "        libros_vendidos.append(venta)\n",
    "        inversion += int(venta)\n",
    "            \n",
    "print('Personas que aplican:',len(libros_vendidos))\n",
    "print('Inversion: $',inversion)\n",
    "print('Duracion: {} segundos'.format(time.time() - inicio))"
   ]
  },
  {
   "cell_type": "code",
   "execution_count": null,
   "metadata": {},
   "outputs": [],
   "source": []
  }
 ],
 "metadata": {
  "kernelspec": {
   "display_name": "Python 3",
   "language": "python",
   "name": "python3"
  },
  "language_info": {
   "codemirror_mode": {
    "name": "ipython",
    "version": 3
   },
   "file_extension": ".py",
   "mimetype": "text/x-python",
   "name": "python",
   "nbconvert_exporter": "python",
   "pygments_lexer": "ipython3",
   "version": "3.8.3"
  }
 },
 "nbformat": 4,
 "nbformat_minor": 4
}
